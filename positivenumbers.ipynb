{
 "cells": [
  {
   "cell_type": "code",
   "execution_count": 1,
   "metadata": {},
   "outputs": [
    {
     "name": "stdout",
     "output_type": "stream",
     "text": [
      "Please enter the Total Number of List Elements: 5\n",
      "Please enter the Value of 1 Element : 3\n",
      "Please enter the Value of 2 Element : -2\n",
      "Please enter the Value of 3 Element : 0\n",
      "Please enter the Value of 4 Element : -4\n",
      "Please enter the Value of 5 Element : 5\n",
      "\n",
      "Positive Numbers in this List are : \n",
      "3   0   5   "
     ]
    }
   ],
   "source": [
    "NumList = []\n",
    "j = 0\n",
    "\n",
    "Number = int(input(\"Please enter the Total Number of List Elements: \"))\n",
    "for i in range(1, Number + 1):\n",
    "    value = int(input(\"Please enter the Value of %d Element : \" %i))\n",
    "    NumList.append(value)\n",
    "\n",
    "print(\"\\nPositive Numbers in this List are : \")\n",
    "while(j < Number):\n",
    "    if(NumList[j] >= 0):\n",
    "        print(NumList[j], end = '   ')\n",
    "    j = j + 1"
   ]
  },
  {
   "cell_type": "code",
   "execution_count": null,
   "metadata": {},
   "outputs": [],
   "source": []
  }
 ],
 "metadata": {
  "kernelspec": {
   "display_name": "Python 3",
   "language": "python",
   "name": "python3"
  },
  "language_info": {
   "codemirror_mode": {
    "name": "ipython",
    "version": 3
   },
   "file_extension": ".py",
   "mimetype": "text/x-python",
   "name": "python",
   "nbconvert_exporter": "python",
   "pygments_lexer": "ipython3",
   "version": "3.8.3"
  }
 },
 "nbformat": 4,
 "nbformat_minor": 4
}
